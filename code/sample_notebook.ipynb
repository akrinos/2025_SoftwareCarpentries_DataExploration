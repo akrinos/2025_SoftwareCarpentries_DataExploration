{
 "cells": [
  {
   "cell_type": "markdown",
   "metadata": {},
   "source": [
    "# Using real-world oceanographic data in Python\n",
    "\n",
    "## Notebook adapted from: OOI Irminger Discrete Water Samples\n",
    "_link: https://github.com/WHOIGit/ooi-on-bco-dmo/blob/main/notebooks/0-OOI-Irminger-discrete-sample-article-figures.ipynb_\n",
    "\n",
    "### Goal of this notebook: Quickly plot OOI's Water Sampling data from an Array over time for several parameters\n",
    "\n",
    "The NSF Ocean Observatories Initiative (OOI) provides [Discrete CTD and Water Sampling Cruise Data](https://www.bco-dmo.org/project/905736) for each Array as a dataset in the Biological and Chemical Oceanography Data Management Office (BCO-DMO). This notebook plots Oxygen, Salinity, and Nitrate data from the Global Irminger Sea Array from 2014-2023 [doi:10.26008/1912/bco-dmo.911407.1](https://www.bco-dmo.org/dataset/911407)\n"
   ]
  },
  {
   "cell_type": "markdown",
   "metadata": {},
   "source": [
    "### Set Up\n",
    "The GitHub repository containing this notebook includes information about dependencies (and versions) in .yml files."
   ]
  },
  {
   "cell_type": "code",
   "execution_count": null,
   "metadata": {},
   "outputs": [],
   "source": [
    "# Import modules\n",
    "import pandas as pd\n",
    "import matplotlib as mpl\n",
    "import matplotlib.pyplot as plt\n",
    "from matplotlib.colors import Normalize\n",
    "import matplotlib.cm as cm\n",
    "from matplotlib.dates import AutoDateLocator, AutoDateFormatter\n",
    "import cmocean.cm as cmo # colormaps for commonly-used oceanographic variables"
   ]
  },
  {
   "cell_type": "markdown",
   "metadata": {},
   "source": [
    "### What error are you getting? What might this mean we need to do?"
   ]
  },
  {
   "cell_type": "code",
   "execution_count": null,
   "metadata": {},
   "outputs": [],
   "source": [
    "# print(mpl.__version__) # if plot cell results in error check version of matplotlib"
   ]
  },
  {
   "cell_type": "markdown",
   "metadata": {},
   "source": [
    "### Load OOI data into workspace\n",
    "To access the data in comma separated variable (CSV) format, one can either:\n",
    "1. Access the File through the URL at ERDDAP > Files (shown below) \n",
    "2. Generate a URL using the [ERDDAP Data Access Form](https://erddap.bco-dmo.org/erddap/tabledap/bcodmo_dataset_911407_v1.html)\n",
    "      - If using the ERDDAP Data Access Form, file type .csvp provides a single header row. \n",
    "      - If using the ERDDAP Data Access Form, one can subset (e.g., select variables of interest) prior to loading the data.\n"
   ]
  },
  {
   "cell_type": "code",
   "execution_count": null,
   "metadata": {},
   "outputs": [],
   "source": [
    "# ERDDAP link to the public dataset CSV\n",
    "erddap_url = \"https://erddap.bco-dmo.org/erddap/files/bcodmo_dataset_911407_v1/911407_v1_ooi_irminger_sea_discrete_water_sampling_data.csv\"\n",
    "\n",
    "# Load the OOI data into a dataframe\n",
    "ooi_irm = pd.read_csv(erddap_url)\n",
    "\n",
    "# Call head() to check that the data was imported correctly\n",
    "ooi_irm.head()"
   ]
  },
  {
   "cell_type": "markdown",
   "metadata": {},
   "source": [
    "### List available parameters\n",
    "Convert relevant parameters to datetime if needed"
   ]
  },
  {
   "cell_type": "code",
   "execution_count": null,
   "metadata": {},
   "outputs": [],
   "source": [
    "print(ooi_irm.columns)"
   ]
  },
  {
   "cell_type": "code",
   "execution_count": null,
   "metadata": {},
   "outputs": [],
   "source": [
    "# Convert the CTD Bottle Closure Time to a datetime data type\n",
    "ooi_irm[\"CTD_Bottle_Closure_Time\"] = pd.to_datetime(ooi_irm[\"CTD_Bottle_Closure_Time\"], yearfirst=True, utc=True)\n",
    "ooi_irm.dtypes[\"CTD_Bottle_Closure_Time\"]"
   ]
  },
  {
   "cell_type": "markdown",
   "metadata": {},
   "source": [
    "### Apply QC flags\n",
    "For functions to interpret OOI discrete sample CTD flags to QARTOD QC-flags please see bottles.py file in https://github.com/oceanobservatories/ooi-data-explorations. For your convience, the module has also been included in this repository."
   ]
  },
  {
   "cell_type": "code",
   "execution_count": null,
   "metadata": {},
   "outputs": [],
   "source": [
    "# display unique Discrete Sample flags\n",
    "# ooi_irm.Discrete_Oxygen_Flag.unique() # display unique one column\n",
    "pd.unique(ooi_irm[[\"Discrete_Oxygen_Flag\", \"Discrete_Salinity_Flag\", \"Discrete_Nutrients_Flag\"]].values.ravel('K')) # display unique multiple columns"
   ]
  },
  {
   "cell_type": "code",
   "execution_count": null,
   "metadata": {},
   "outputs": [],
   "source": [
    "# Assign \"Acceptable\" flags to QARTOD \n",
    "flag1 = \"*0000000000000100\" # Good 1 in Bit Position 2 (i.e., 3rd from right)\n",
    "flag2 = \"*0000000000000101\" # this example had 2 unique \"Acceptable\" flags\n",
    "\n",
    "ooi_irm.loc[ooi_irm.Discrete_Oxygen_Flag == flag1, 'Discrete_Oxygen_Flag'] = 1       # assign QARTOD Good\n",
    "ooi_irm.loc[ooi_irm.Discrete_Oxygen_Flag == flag2, 'Discrete_Oxygen_Flag'] = 1       # assign QARTOD Good\n",
    "ooi_irm.loc[ooi_irm.Discrete_Salinity_Flag == flag1, 'Discrete_Salinity_Flag'] = 1   # assign QARTOD Good\n",
    "ooi_irm.loc[ooi_irm.Discrete_Salinity_Flag == flag2, 'Discrete_Salinity_Flag'] = 1   # assign QARTOD Good\n",
    "ooi_irm.loc[ooi_irm.Discrete_Nutrients_Flag == flag1, 'Discrete_Nutrients_Flag'] = 1 # assign QARTOD Good\n",
    "ooi_irm.loc[ooi_irm.Discrete_Nutrients_Flag == flag2, 'Discrete_Nutrients_Flag'] = 1 # assign QARTOD Good\n",
    "\n",
    "# Display unique Discrete Sample flags\n",
    "pd.unique(ooi_irm[[\"Discrete_Oxygen_Flag\", \"Discrete_Salinity_Flag\", \"Discrete_Nutrients_Flag\"]].values.ravel('K')) # display unique multiple columns\n"
   ]
  },
  {
   "cell_type": "code",
   "execution_count": null,
   "metadata": {},
   "outputs": [],
   "source": [
    "# Subset Data Frame to Discrete Samples with Acceptable flags\n",
    "irm_qc = ooi_irm.query(\"Discrete_Oxygen_Flag==1 | Discrete_Salinity_Flag==1 | Discrete_Nutrients_Flag==1\")\n",
    "print(f\"This subset of Discrete Samples with Acceptable flags reduced the total data points from {len(ooi_irm)} to {len(irm_qc)}\")"
   ]
  },
  {
   "cell_type": "markdown",
   "metadata": {},
   "source": [
    "### Plot Data\n",
    "\n",
    "##### Set themes, styles, and figure global parameters"
   ]
  },
  {
   "cell_type": "code",
   "execution_count": null,
   "metadata": {},
   "outputs": [],
   "source": [
    "# For indexing multi-panel plots with matplotlib \n",
    "flag_oxy = irm_qc[\"Discrete_Oxygen_Flag\"]==1\n",
    "flag_sal = irm_qc[\"Discrete_Salinity_Flag\"]==1\n",
    "flag_ntr = irm_qc[\"Discrete_Nutrients_Flag\"]==1"
   ]
  },
  {
   "cell_type": "code",
   "execution_count": null,
   "metadata": {},
   "outputs": [],
   "source": [
    "# Assign colormaps from cmocean package\n",
    "cmap_oxy = cmo.deep_r\n",
    "cmap_salt = cmo.haline\n",
    "cmap_nitr = cmo.matter\n",
    "cmap_chl = cmo.algae\n",
    "cmap_time = cmo.tempo_r"
   ]
  },
  {
   "cell_type": "code",
   "execution_count": null,
   "metadata": {},
   "outputs": [],
   "source": [
    "# set up time for matplotlib plots\n",
    "time = irm_qc[\"CTD_Bottle_Closure_Time\"].values\n",
    "\n",
    "# Create a matplotlib-friendly numeric time array\n",
    "mpl_time = mpl.dates.date2num(time)\n",
    "\n",
    "# Create normalizer for colorbar representing the full date range\n",
    "normalizer = Normalize(mpl_time[0], mpl_time[-1])\n",
    "\n",
    "# Create tick locator for using time as the color scale\n",
    "locator = AutoDateLocator()"
   ]
  },
  {
   "cell_type": "markdown",
   "metadata": {},
   "source": [
    "##### Plot Quality Controlled Data\n",
    "\n",
    "**Figure 1.** Plot the oxygen, salinity, and nitrate concentrations through time as a function of depth"
   ]
  },
  {
   "cell_type": "code",
   "execution_count": null,
   "metadata": {},
   "outputs": [],
   "source": [
    "# Create the subplots with time on the x-axis\n",
    "fig, axs = plt.subplots(3, 1, figsize=(8,10), sharex=True, layout=\"tight\")\n",
    "\n",
    "# Discrete Oxygen\n",
    "plt.subplot(3,1,1)\n",
    "axs[0].invert_yaxis()\n",
    "plt.scatter(x=time[flag_oxy], y=irm_qc[\"CTD_Depth\"][flag_oxy], s=20,\n",
    "            c=irm_qc[\"Discrete_Oxygen\"][flag_oxy], cmap=cmap_oxy,\n",
    "            edgecolors=\"none\")\n",
    "plt.grid()\n",
    "plt.colorbar(label=\"Oxygen [mL/L]\")\n",
    "axs[0].set_ylabel(\"Depth [m]\")\n",
    "\n",
    "# Discrete Salinity\n",
    "plt.subplot(3,1,2)\n",
    "axs[1].invert_yaxis()\n",
    "plt.scatter(x=time[flag_sal], y=irm_qc[\"CTD_Depth\"][flag_sal], s=20,\n",
    "            c=irm_qc[\"Discrete_Salinity\"][flag_sal], cmap=cmap_salt,\n",
    "            edgecolors=\"none\", vmin=34.8, vmax=35)\n",
    "plt.grid()\n",
    "plt.colorbar(label=\"Salinity [psu]\", extend='both')\n",
    "axs[1].set_ylabel(\"Depth [m]\")\n",
    "\n",
    "# Discrete Nitrate\n",
    "plt.subplot(3,1,3)\n",
    "axs[2].set_ylim([0, 3500])\n",
    "axs[2].invert_yaxis()\n",
    "plt.scatter(x=time[flag_ntr], y=irm_qc[\"CTD_Depth\"][flag_ntr], s=20,\n",
    "            c=irm_qc[\"Discrete_Nitrate\"][flag_ntr], cmap=cmap_nitr,\n",
    "            edgecolors=\"none\")\n",
    "plt.grid()\n",
    "plt.colorbar(label=\"Nitrate [uM]\")\n",
    "axs[2].set_ylabel(\"Depth [m]\")\n",
    "\n",
    "axs[2].set_xlabel(\"Time\")\n",
    "\n",
    "fig.savefig(\"../figures/oxygen_salinity_nitrate.pdf\")"
   ]
  },
  {
   "cell_type": "markdown",
   "metadata": {},
   "source": [
    "**Figure 2.** Plot oxygen, salinity, and nitrate concentrations as a function of depth"
   ]
  },
  {
   "cell_type": "code",
   "execution_count": null,
   "metadata": {},
   "outputs": [],
   "source": [
    "# Create the subplots with time indicated by color\n",
    "fig, axs = plt.subplots(1, 3, figsize=(8,4), sharey=True, constrained_layout=True)\n",
    "subfig = fig.subfigures(nrows=1, ncols=1)\n",
    "\n",
    "# Discrete Oxygen\n",
    "plt.subplot(1,3,1)\n",
    "axs[0].invert_yaxis()\n",
    "plt.scatter(x=irm_qc[\"Discrete_Oxygen\"][flag_oxy], y=irm_qc[\"CTD_Depth\"][flag_oxy], s=30,\n",
    "            c=mpl_time[flag_oxy], cmap=cmap_time, norm=normalizer,\n",
    "            edgecolors=\"k\", linewidths=0.5)\n",
    "plt.grid()\n",
    "axs[0].set_ylabel(\"CTD Depth [m]\")\n",
    "axs[0].set_xlabel(\"Oxygen [mL/L]\")\n",
    "axs[0].set_xlim([5,8])\n",
    "\n",
    "# Discrete Salinity\n",
    "plt.subplot(1,3,2)\n",
    "axs[1].invert_yaxis()\n",
    "plt.scatter(x=irm_qc[\"Discrete_Salinity\"][flag_sal], y=irm_qc[\"CTD_Depth\"][flag_sal],\n",
    "            c=mpl_time[flag_sal], cmap=cmap_time, s=30, norm=normalizer,\n",
    "            edgecolors=\"k\", linewidths=0.5)\n",
    "plt.grid()\n",
    "axs[1].set_xlabel(\"Salinity [psu]\")\n",
    "axs[1].set_xlim([34,36])\n",
    "\n",
    "# Discrete Nitrate\n",
    "plt.subplot(1,3,3)\n",
    "axs[2].invert_yaxis()\n",
    "plt.scatter(x=irm_qc[\"Discrete_Nitrate\"][flag_ntr], y=irm_qc[\"CTD_Depth\"][flag_ntr], s=30,\n",
    "            c=mpl_time[flag_ntr], cmap=cmap_time, norm=normalizer,\n",
    "            edgecolors=\"k\", linewidths=0.5)\n",
    "plt.grid()\n",
    "axs[2].set_xlabel(\"Nitrate [uM]\")\n",
    "\n",
    "time_map = cm.ScalarMappable(norm=normalizer, cmap=cmap_time)\n",
    "subfig.colorbar(time_map, ax=axs.ravel().tolist(), label=\"Time\", ticks=AutoDateLocator(),\n",
    "             format=AutoDateFormatter(locator), location=\"bottom\", aspect=50)\n",
    "plt.show()"
   ]
  },
  {
   "cell_type": "code",
   "execution_count": null,
   "metadata": {},
   "outputs": [],
   "source": [
    "fig, axs = plt.subplots(1,1,figsize=(8,4), sharey=True, constrained_layout=True)\n",
    "subfig = fig.subfigures(nrows=1, ncols=1)\n",
    "\n",
    "axs.invert_yaxis()\n",
    "variable=\"Discrete_Silicate\"\n",
    "axs.scatter(x=irm_qc[variable][flag_ntr], y=irm_qc[\"CTD_Depth\"][flag_ntr], s=30,\n",
    "            c=mpl_time[flag_ntr], cmap=cmap_time, norm=normalizer,\n",
    "            edgecolors=\"k\", linewidths=0.5)\n",
    "axs.grid()\n",
    "axs.set_xlabel(variable)\n",
    "\n",
    "time_map = cm.ScalarMappable(norm=normalizer, cmap=cmap_time)\n",
    "subfig.colorbar(time_map, ax=axs, label=\"Time\", ticks=AutoDateLocator(),\n",
    "             format=AutoDateFormatter(locator), location=\"bottom\", aspect=50)\n"
   ]
  },
  {
   "cell_type": "markdown",
   "metadata": {},
   "source": [
    "### Challenge questions in groups of 2 (add to the notebook)\n",
    "When you have plots you're happy with, paste them after a title slide with your group members into this presentation: https://docs.google.com/presentation/d/1HREIaJXX9zHNBBvS3lNWr1W_GR2wzOJvehwwYZTFHRY/edit?usp=sharing \n",
    "\n",
    "1. Select one depth and plot a line plot with scatter points showing change over time for 5 distinct variables, including 3 not chosen in the 3-part plot above\n",
    "2. Plot 2 variables against one another instead of against time. Do you notice any trends?\n",
    "3. Plot fluorescence using a variable that makes sense from the DataFrame column index and using the \"algae\" colormap highlighted above. Why do you think so many data are missing?\n",
    "4. Try plotting depth profiles for individual timepoints by connecting observations with depth and making the x-axis of the plot the variable we are observing. Choose your top 3 most interesting profiles for some measured nutrient or response and put them into our shared Google Slides.\n",
    "\n",
    "\n",
    "_Challenge question_: can you plot a regression line and calculate a correlation coefficient between 2 of the variables you plotted in question 2? Feel free to use external resources for this!"
   ]
  },
  {
   "cell_type": "code",
   "execution_count": null,
   "metadata": {},
   "outputs": [],
   "source": []
  }
 ],
 "metadata": {
  "kernelspec": {
   "display_name": "Python 3 (ipykernel)",
   "language": "python",
   "name": "python3"
  },
  "language_info": {
   "codemirror_mode": {
    "name": "ipython",
    "version": 3
   },
   "file_extension": ".py",
   "mimetype": "text/x-python",
   "name": "python",
   "nbconvert_exporter": "python",
   "pygments_lexer": "ipython3",
   "version": "3.13.5"
  }
 },
 "nbformat": 4,
 "nbformat_minor": 4
}
